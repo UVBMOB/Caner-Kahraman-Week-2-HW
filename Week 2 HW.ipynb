{
 "cells": [
  {
   "cell_type": "code",
   "execution_count": 1,
   "metadata": {},
   "outputs": [],
   "source": [
    "# Read hmelq.txt file"
   ]
  },
  {
   "cell_type": "code",
   "execution_count": 2,
   "metadata": {},
   "outputs": [],
   "source": [
    "#HW'de istenenler\n",
    "\n",
    "#count ok\n",
    "#sum ok \n",
    "#mean   ok \n",
    "#median  ok \n",
    "#mode  ok \n",
    "#std ok\n",
    "#min max  ok \n",
    "#abs ok \n",
    "#prod ok\n",
    "#cumsum ok\n",
    "#cumprod ok \n",
    "\n",
    "#correlation\n",
    "#grafikler scatter boxplot "
   ]
  },
  {
   "cell_type": "code",
   "execution_count": 3,
   "metadata": {},
   "outputs": [],
   "source": [
    "#f = open(r\"C:\\Users\\cakahraman\\Desktop\\Data Science Bootcamp\\hmelq.txt\", \"r\")\n",
    "# bu şekilde okuduk ama veriye nasıl bağlayacağım "
   ]
  },
  {
   "cell_type": "code",
   "execution_count": 4,
   "metadata": {},
   "outputs": [],
   "source": [
    "#print(f.read())  "
   ]
  },
  {
   "cell_type": "code",
   "execution_count": 2,
   "metadata": {},
   "outputs": [],
   "source": [
    "import pandas as pd\n",
    "data = pd.read_csv(\"C:/Users/cakahraman/Desktop/Data Science Bootcamp/hmelq.txt\", sep =\",\" , header = 0)\n",
    "#panda ile direk güzel okuyor"
   ]
  },
  {
   "cell_type": "code",
   "execution_count": 3,
   "metadata": {},
   "outputs": [
    {
     "data": {
      "text/html": [
       "<div>\n",
       "<style scoped>\n",
       "    .dataframe tbody tr th:only-of-type {\n",
       "        vertical-align: middle;\n",
       "    }\n",
       "\n",
       "    .dataframe tbody tr th {\n",
       "        vertical-align: top;\n",
       "    }\n",
       "\n",
       "    .dataframe thead th {\n",
       "        text-align: right;\n",
       "    }\n",
       "</style>\n",
       "<table border=\"1\" class=\"dataframe\">\n",
       "  <thead>\n",
       "    <tr style=\"text-align: right;\">\n",
       "      <th></th>\n",
       "      <th>bad</th>\n",
       "      <th>loan</th>\n",
       "      <th>mortdue</th>\n",
       "      <th>value</th>\n",
       "      <th>reason</th>\n",
       "      <th>job</th>\n",
       "      <th>yoj</th>\n",
       "      <th>derog</th>\n",
       "      <th>delinq</th>\n",
       "      <th>clage</th>\n",
       "      <th>ninq</th>\n",
       "      <th>clno</th>\n",
       "      <th>debtinc</th>\n",
       "    </tr>\n",
       "  </thead>\n",
       "  <tbody>\n",
       "    <tr>\n",
       "      <th>0</th>\n",
       "      <td>0</td>\n",
       "      <td>81200</td>\n",
       "      <td>18834.0</td>\n",
       "      <td>108355.0</td>\n",
       "      <td>HomeImp</td>\n",
       "      <td>NaN</td>\n",
       "      <td>28.0</td>\n",
       "      <td>0.0</td>\n",
       "      <td>0.0</td>\n",
       "      <td>139.14</td>\n",
       "      <td>0.0</td>\n",
       "      <td>14.0</td>\n",
       "      <td>34.042</td>\n",
       "    </tr>\n",
       "    <tr>\n",
       "      <th>1</th>\n",
       "      <td>0</td>\n",
       "      <td>12600</td>\n",
       "      <td>103960.0</td>\n",
       "      <td>127384.0</td>\n",
       "      <td>DebtCon</td>\n",
       "      <td>NaN</td>\n",
       "      <td>2.0</td>\n",
       "      <td>0.0</td>\n",
       "      <td>0.0</td>\n",
       "      <td>129.02</td>\n",
       "      <td>0.0</td>\n",
       "      <td>25.0</td>\n",
       "      <td>34.479</td>\n",
       "    </tr>\n",
       "    <tr>\n",
       "      <th>2</th>\n",
       "      <td>0</td>\n",
       "      <td>18000</td>\n",
       "      <td>46865.0</td>\n",
       "      <td>61266.0</td>\n",
       "      <td>DebtCon</td>\n",
       "      <td>NaN</td>\n",
       "      <td>5.0</td>\n",
       "      <td>0.0</td>\n",
       "      <td>0.0</td>\n",
       "      <td>102.59</td>\n",
       "      <td>2.0</td>\n",
       "      <td>9.0</td>\n",
       "      <td>26.354</td>\n",
       "    </tr>\n",
       "    <tr>\n",
       "      <th>3</th>\n",
       "      <td>0</td>\n",
       "      <td>10300</td>\n",
       "      <td>57676.0</td>\n",
       "      <td>71027.0</td>\n",
       "      <td>DebtCon</td>\n",
       "      <td>NaN</td>\n",
       "      <td>19.0</td>\n",
       "      <td>0.0</td>\n",
       "      <td>0.0</td>\n",
       "      <td>157.52</td>\n",
       "      <td>1.0</td>\n",
       "      <td>11.0</td>\n",
       "      <td>33.992</td>\n",
       "    </tr>\n",
       "    <tr>\n",
       "      <th>4</th>\n",
       "      <td>0</td>\n",
       "      <td>9400</td>\n",
       "      <td>56508.0</td>\n",
       "      <td>78358.0</td>\n",
       "      <td>DebtCon</td>\n",
       "      <td>NaN</td>\n",
       "      <td>17.0</td>\n",
       "      <td>0.0</td>\n",
       "      <td>0.0</td>\n",
       "      <td>141.93</td>\n",
       "      <td>0.0</td>\n",
       "      <td>11.0</td>\n",
       "      <td>32.327</td>\n",
       "    </tr>\n",
       "  </tbody>\n",
       "</table>\n",
       "</div>"
      ],
      "text/plain": [
       "   bad   loan   mortdue     value   reason  job   yoj  derog  delinq   clage  \\\n",
       "0    0  81200   18834.0  108355.0  HomeImp  NaN  28.0    0.0     0.0  139.14   \n",
       "1    0  12600  103960.0  127384.0  DebtCon  NaN   2.0    0.0     0.0  129.02   \n",
       "2    0  18000   46865.0   61266.0  DebtCon  NaN   5.0    0.0     0.0  102.59   \n",
       "3    0  10300   57676.0   71027.0  DebtCon  NaN  19.0    0.0     0.0  157.52   \n",
       "4    0   9400   56508.0   78358.0  DebtCon  NaN  17.0    0.0     0.0  141.93   \n",
       "\n",
       "   ninq  clno  debtinc  \n",
       "0   0.0  14.0   34.042  \n",
       "1   0.0  25.0   34.479  \n",
       "2   2.0   9.0   26.354  \n",
       "3   1.0  11.0   33.992  \n",
       "4   0.0  11.0   32.327  "
      ]
     },
     "execution_count": 3,
     "metadata": {},
     "output_type": "execute_result"
    }
   ],
   "source": [
    "data.head()"
   ]
  },
  {
   "cell_type": "code",
   "execution_count": 7,
   "metadata": {},
   "outputs": [
    {
     "data": {
      "text/plain": [
       "pandas.core.frame.DataFrame"
      ]
     },
     "execution_count": 7,
     "metadata": {},
     "output_type": "execute_result"
    }
   ],
   "source": [
    "type(data)"
   ]
  },
  {
   "cell_type": "code",
   "execution_count": 8,
   "metadata": {},
   "outputs": [
    {
     "data": {
      "text/plain": [
       "3576"
      ]
     },
     "execution_count": 8,
     "metadata": {},
     "output_type": "execute_result"
    }
   ],
   "source": [
    "len(data['bad'])"
   ]
  },
  {
   "cell_type": "code",
   "execution_count": 9,
   "metadata": {},
   "outputs": [
    {
     "data": {
      "text/plain": [
       "'debtinc'"
      ]
     },
     "execution_count": 9,
     "metadata": {},
     "output_type": "execute_result"
    }
   ],
   "source": [
    "columns = data.columns\n",
    "columns[12]\n",
    "#data[['bad','loan']]"
   ]
  },
  {
   "cell_type": "code",
   "execution_count": 10,
   "metadata": {},
   "outputs": [
    {
     "data": {
      "text/plain": [
       "bad        3576\n",
       "loan       3576\n",
       "mortdue    3262\n",
       "value      3512\n",
       "reason     3429\n",
       "job        3409\n",
       "yoj        3264\n",
       "derog      3149\n",
       "delinq     3225\n",
       "clage      3397\n",
       "ninq       3273\n",
       "clno       3443\n",
       "debtinc    2809\n",
       "dtype: int64"
      ]
     },
     "execution_count": 10,
     "metadata": {},
     "output_type": "execute_result"
    }
   ],
   "source": [
    "data[:].count()\n",
    "#bütün sütunlar için count"
   ]
  },
  {
   "cell_type": "code",
   "execution_count": 11,
   "metadata": {},
   "outputs": [
    {
     "data": {
      "text/plain": [
       "bad        7.130000e+02\n",
       "loan       6.626220e+07\n",
       "mortdue    2.414334e+08\n",
       "value      3.549822e+08\n",
       "yoj        2.882975e+04\n",
       "derog      8.240000e+02\n",
       "delinq     1.395000e+03\n",
       "clage      6.108911e+05\n",
       "ninq       3.883000e+03\n",
       "clno       7.404900e+04\n",
       "debtinc    9.503335e+04\n",
       "dtype: float64"
      ]
     },
     "execution_count": 11,
     "metadata": {},
     "output_type": "execute_result"
    }
   ],
   "source": [
    "data[:].sum()\n",
    "#bütün sütunlar için sum"
   ]
  },
  {
   "cell_type": "code",
   "execution_count": 12,
   "metadata": {},
   "outputs": [
    {
     "data": {
      "text/plain": [
       "bad             0.199385\n",
       "loan        18529.697987\n",
       "mortdue     74013.907992\n",
       "value      101076.922759\n",
       "yoj             8.832644\n",
       "derog           0.261670\n",
       "delinq          0.432558\n",
       "clage         179.832529\n",
       "ninq            1.186373\n",
       "clno           21.507116\n",
       "debtinc        33.831737\n",
       "dtype: float64"
      ]
     },
     "execution_count": 12,
     "metadata": {},
     "output_type": "execute_result"
    }
   ],
   "source": [
    "data[:].mean()  \n",
    "#bütün sütunlar için mean "
   ]
  },
  {
   "cell_type": "code",
   "execution_count": 13,
   "metadata": {},
   "outputs": [
    {
     "data": {
      "text/plain": [
       "bad            0.000\n",
       "loan       16200.000\n",
       "mortdue    65858.000\n",
       "value      89183.000\n",
       "yoj            7.000\n",
       "derog          0.000\n",
       "delinq         0.000\n",
       "clage        173.640\n",
       "ninq           1.000\n",
       "clno          20.000\n",
       "debtinc       34.747\n",
       "dtype: float64"
      ]
     },
     "execution_count": 13,
     "metadata": {},
     "output_type": "execute_result"
    }
   ],
   "source": [
    "data[:].median()\n",
    "#bütün sütunlar için medyan"
   ]
  },
  {
   "cell_type": "code",
   "execution_count": 14,
   "metadata": {},
   "outputs": [
    {
     "data": {
      "text/html": [
       "<div>\n",
       "<style scoped>\n",
       "    .dataframe tbody tr th:only-of-type {\n",
       "        vertical-align: middle;\n",
       "    }\n",
       "\n",
       "    .dataframe tbody tr th {\n",
       "        vertical-align: top;\n",
       "    }\n",
       "\n",
       "    .dataframe thead th {\n",
       "        text-align: right;\n",
       "    }\n",
       "</style>\n",
       "<table border=\"1\" class=\"dataframe\">\n",
       "  <thead>\n",
       "    <tr style=\"text-align: right;\">\n",
       "      <th></th>\n",
       "      <th>bad</th>\n",
       "      <th>loan</th>\n",
       "      <th>mortdue</th>\n",
       "      <th>value</th>\n",
       "      <th>reason</th>\n",
       "      <th>job</th>\n",
       "      <th>yoj</th>\n",
       "      <th>derog</th>\n",
       "      <th>delinq</th>\n",
       "      <th>clage</th>\n",
       "      <th>ninq</th>\n",
       "      <th>clno</th>\n",
       "      <th>debtinc</th>\n",
       "    </tr>\n",
       "  </thead>\n",
       "  <tbody>\n",
       "    <tr>\n",
       "      <th>0</th>\n",
       "      <td>0.0</td>\n",
       "      <td>15000.0</td>\n",
       "      <td>50000.0</td>\n",
       "      <td>80000.0</td>\n",
       "      <td>DebtCon</td>\n",
       "      <td>Other</td>\n",
       "      <td>0.0</td>\n",
       "      <td>0.0</td>\n",
       "      <td>0.0</td>\n",
       "      <td>102.5</td>\n",
       "      <td>0.0</td>\n",
       "      <td>19.0</td>\n",
       "      <td>42.93</td>\n",
       "    </tr>\n",
       "    <tr>\n",
       "      <th>1</th>\n",
       "      <td>NaN</td>\n",
       "      <td>NaN</td>\n",
       "      <td>55000.0</td>\n",
       "      <td>NaN</td>\n",
       "      <td>NaN</td>\n",
       "      <td>NaN</td>\n",
       "      <td>NaN</td>\n",
       "      <td>NaN</td>\n",
       "      <td>NaN</td>\n",
       "      <td>NaN</td>\n",
       "      <td>NaN</td>\n",
       "      <td>NaN</td>\n",
       "      <td>NaN</td>\n",
       "    </tr>\n",
       "  </tbody>\n",
       "</table>\n",
       "</div>"
      ],
      "text/plain": [
       "   bad     loan  mortdue    value   reason    job  yoj  derog  delinq  clage  \\\n",
       "0  0.0  15000.0  50000.0  80000.0  DebtCon  Other  0.0    0.0     0.0  102.5   \n",
       "1  NaN      NaN  55000.0      NaN      NaN    NaN  NaN    NaN     NaN    NaN   \n",
       "\n",
       "   ninq  clno  debtinc  \n",
       "0   0.0  19.0    42.93  \n",
       "1   NaN   NaN      NaN  "
      ]
     },
     "execution_count": 14,
     "metadata": {},
     "output_type": "execute_result"
    }
   ],
   "source": [
    "data[:].mode()\n",
    "#bütün sütunlar için medyan"
   ]
  },
  {
   "cell_type": "code",
   "execution_count": 15,
   "metadata": {},
   "outputs": [],
   "source": [
    "# mortdue da 2 tane mod olduğu için 2 satır var"
   ]
  },
  {
   "cell_type": "code",
   "execution_count": 16,
   "metadata": {},
   "outputs": [
    {
     "data": {
      "text/plain": [
       "bad            0.399594\n",
       "loan       11262.834060\n",
       "mortdue    44016.833772\n",
       "value      54865.275351\n",
       "yoj            7.568046\n",
       "derog          0.865178\n",
       "delinq         1.099230\n",
       "clage         87.066198\n",
       "ninq           1.728723\n",
       "clno          10.167490\n",
       "debtinc        9.061837\n",
       "dtype: float64"
      ]
     },
     "execution_count": 16,
     "metadata": {},
     "output_type": "execute_result"
    }
   ],
   "source": [
    "data[:].std()"
   ]
  },
  {
   "cell_type": "code",
   "execution_count": 17,
   "metadata": {},
   "outputs": [
    {
     "data": {
      "text/plain": [
       "bad           0.00\n",
       "loan       1100.00\n",
       "mortdue    2619.00\n",
       "value      8800.00\n",
       "yoj           0.00\n",
       "derog         0.00\n",
       "delinq        0.00\n",
       "clage         0.49\n",
       "ninq          0.00\n",
       "clno          0.00\n",
       "debtinc       0.72\n",
       "dtype: float64"
      ]
     },
     "execution_count": 17,
     "metadata": {},
     "output_type": "execute_result"
    }
   ],
   "source": [
    "data[:].min()\n",
    "#bütün sütunlar için min"
   ]
  },
  {
   "cell_type": "code",
   "execution_count": 18,
   "metadata": {},
   "outputs": [
    {
     "data": {
      "text/plain": [
       "bad             1.000\n",
       "loan        89900.000\n",
       "mortdue    399550.000\n",
       "value      850000.000\n",
       "yoj            41.000\n",
       "derog          10.000\n",
       "delinq         15.000\n",
       "clage        1168.230\n",
       "ninq           17.000\n",
       "clno           71.000\n",
       "debtinc       203.312\n",
       "dtype: float64"
      ]
     },
     "execution_count": 18,
     "metadata": {},
     "output_type": "execute_result"
    }
   ],
   "source": [
    "data[:].max()\n",
    "#bütün sütunlar için mean "
   ]
  },
  {
   "cell_type": "code",
   "execution_count": 19,
   "metadata": {},
   "outputs": [
    {
     "data": {
      "text/plain": [
       "0    0\n",
       "1    0\n",
       "2    0\n",
       "3    0\n",
       "4    0\n",
       "Name: bad, dtype: int64"
      ]
     },
     "execution_count": 19,
     "metadata": {},
     "output_type": "execute_result"
    }
   ],
   "source": [
    "data.bad.abs().head()\n",
    "#Minlere bakılınca negatif değer yok. Bu yüzden abs fonksiyonuna gerek yok. Örnek için bad için yapıldı."
   ]
  },
  {
   "cell_type": "code",
   "execution_count": 20,
   "metadata": {},
   "outputs": [
    {
     "data": {
      "text/plain": [
       "0    0.0\n",
       "1    0.0\n",
       "2    0.0\n",
       "3    0.0\n",
       "4    0.0\n",
       "dtype: float64"
      ]
     },
     "execution_count": 20,
     "metadata": {},
     "output_type": "execute_result"
    }
   ],
   "source": [
    "data.prod(axis=1, skipna = True).head()\n",
    "#data.prod axis 1 ile satır satır çarpıyoruz."
   ]
  },
  {
   "cell_type": "code",
   "execution_count": 21,
   "metadata": {},
   "outputs": [
    {
     "data": {
      "text/plain": [
       "bad        0.0\n",
       "loan       0.0\n",
       "mortdue    inf\n",
       "value      inf\n",
       "yoj        0.0\n",
       "derog      0.0\n",
       "delinq     0.0\n",
       "clage      inf\n",
       "ninq       0.0\n",
       "clno       0.0\n",
       "debtinc    inf\n",
       "dtype: float64"
      ]
     },
     "execution_count": 21,
     "metadata": {},
     "output_type": "execute_result"
    }
   ],
   "source": [
    "data.prod()\n",
    "#data.prod ile sütun çarpımına bakıyoruz"
   ]
  },
  {
   "cell_type": "code",
   "execution_count": null,
   "metadata": {},
   "outputs": [],
   "source": [
    "data2 = data.iloc[:,[0,1,2,3,6,7,8,9,10,11,12]]\n",
    "#remove reason and job because no numeric data"
   ]
  },
  {
   "cell_type": "code",
   "execution_count": 23,
   "metadata": {},
   "outputs": [
    {
     "data": {
      "text/html": [
       "<div>\n",
       "<style scoped>\n",
       "    .dataframe tbody tr th:only-of-type {\n",
       "        vertical-align: middle;\n",
       "    }\n",
       "\n",
       "    .dataframe tbody tr th {\n",
       "        vertical-align: top;\n",
       "    }\n",
       "\n",
       "    .dataframe thead th {\n",
       "        text-align: right;\n",
       "    }\n",
       "</style>\n",
       "<table border=\"1\" class=\"dataframe\">\n",
       "  <thead>\n",
       "    <tr style=\"text-align: right;\">\n",
       "      <th></th>\n",
       "      <th>bad</th>\n",
       "      <th>loan</th>\n",
       "      <th>mortdue</th>\n",
       "      <th>value</th>\n",
       "      <th>yoj</th>\n",
       "      <th>derog</th>\n",
       "      <th>delinq</th>\n",
       "      <th>clage</th>\n",
       "      <th>ninq</th>\n",
       "      <th>clno</th>\n",
       "      <th>debtinc</th>\n",
       "    </tr>\n",
       "  </thead>\n",
       "  <tbody>\n",
       "    <tr>\n",
       "      <th>0</th>\n",
       "      <td>0.0</td>\n",
       "      <td>81200.0</td>\n",
       "      <td>18834.0</td>\n",
       "      <td>108355.0</td>\n",
       "      <td>28.0</td>\n",
       "      <td>0.0</td>\n",
       "      <td>0.0</td>\n",
       "      <td>139.14</td>\n",
       "      <td>0.0</td>\n",
       "      <td>14.0</td>\n",
       "      <td>34.042</td>\n",
       "    </tr>\n",
       "    <tr>\n",
       "      <th>1</th>\n",
       "      <td>0.0</td>\n",
       "      <td>93800.0</td>\n",
       "      <td>122794.0</td>\n",
       "      <td>235739.0</td>\n",
       "      <td>30.0</td>\n",
       "      <td>0.0</td>\n",
       "      <td>0.0</td>\n",
       "      <td>268.16</td>\n",
       "      <td>0.0</td>\n",
       "      <td>39.0</td>\n",
       "      <td>68.521</td>\n",
       "    </tr>\n",
       "    <tr>\n",
       "      <th>2</th>\n",
       "      <td>0.0</td>\n",
       "      <td>111800.0</td>\n",
       "      <td>169659.0</td>\n",
       "      <td>297005.0</td>\n",
       "      <td>35.0</td>\n",
       "      <td>0.0</td>\n",
       "      <td>0.0</td>\n",
       "      <td>370.75</td>\n",
       "      <td>2.0</td>\n",
       "      <td>48.0</td>\n",
       "      <td>94.875</td>\n",
       "    </tr>\n",
       "    <tr>\n",
       "      <th>3</th>\n",
       "      <td>0.0</td>\n",
       "      <td>122100.0</td>\n",
       "      <td>227335.0</td>\n",
       "      <td>368032.0</td>\n",
       "      <td>54.0</td>\n",
       "      <td>0.0</td>\n",
       "      <td>0.0</td>\n",
       "      <td>528.27</td>\n",
       "      <td>3.0</td>\n",
       "      <td>59.0</td>\n",
       "      <td>128.867</td>\n",
       "    </tr>\n",
       "    <tr>\n",
       "      <th>4</th>\n",
       "      <td>0.0</td>\n",
       "      <td>131500.0</td>\n",
       "      <td>283843.0</td>\n",
       "      <td>446390.0</td>\n",
       "      <td>71.0</td>\n",
       "      <td>0.0</td>\n",
       "      <td>0.0</td>\n",
       "      <td>670.20</td>\n",
       "      <td>3.0</td>\n",
       "      <td>70.0</td>\n",
       "      <td>161.194</td>\n",
       "    </tr>\n",
       "  </tbody>\n",
       "</table>\n",
       "</div>"
      ],
      "text/plain": [
       "   bad      loan   mortdue     value   yoj  derog  delinq   clage  ninq  clno  \\\n",
       "0  0.0   81200.0   18834.0  108355.0  28.0    0.0     0.0  139.14   0.0  14.0   \n",
       "1  0.0   93800.0  122794.0  235739.0  30.0    0.0     0.0  268.16   0.0  39.0   \n",
       "2  0.0  111800.0  169659.0  297005.0  35.0    0.0     0.0  370.75   2.0  48.0   \n",
       "3  0.0  122100.0  227335.0  368032.0  54.0    0.0     0.0  528.27   3.0  59.0   \n",
       "4  0.0  131500.0  283843.0  446390.0  71.0    0.0     0.0  670.20   3.0  70.0   \n",
       "\n",
       "   debtinc  \n",
       "0   34.042  \n",
       "1   68.521  \n",
       "2   94.875  \n",
       "3  128.867  \n",
       "4  161.194  "
      ]
     },
     "execution_count": 23,
     "metadata": {},
     "output_type": "execute_result"
    }
   ],
   "source": [
    "data2.cumsum().head()\n",
    "#Cumsum for remaining parts"
   ]
  },
  {
   "cell_type": "code",
   "execution_count": 24,
   "metadata": {},
   "outputs": [
    {
     "data": {
      "text/html": [
       "<div>\n",
       "<style scoped>\n",
       "    .dataframe tbody tr th:only-of-type {\n",
       "        vertical-align: middle;\n",
       "    }\n",
       "\n",
       "    .dataframe tbody tr th {\n",
       "        vertical-align: top;\n",
       "    }\n",
       "\n",
       "    .dataframe thead th {\n",
       "        text-align: right;\n",
       "    }\n",
       "</style>\n",
       "<table border=\"1\" class=\"dataframe\">\n",
       "  <thead>\n",
       "    <tr style=\"text-align: right;\">\n",
       "      <th></th>\n",
       "      <th>bad</th>\n",
       "      <th>loan</th>\n",
       "      <th>mortdue</th>\n",
       "      <th>value</th>\n",
       "      <th>yoj</th>\n",
       "      <th>derog</th>\n",
       "      <th>delinq</th>\n",
       "      <th>clage</th>\n",
       "      <th>ninq</th>\n",
       "      <th>clno</th>\n",
       "      <th>debtinc</th>\n",
       "    </tr>\n",
       "  </thead>\n",
       "  <tbody>\n",
       "    <tr>\n",
       "      <th>0</th>\n",
       "      <td>0.0</td>\n",
       "      <td>8.120000e+04</td>\n",
       "      <td>1.883400e+04</td>\n",
       "      <td>1.083550e+05</td>\n",
       "      <td>28.0</td>\n",
       "      <td>0.0</td>\n",
       "      <td>0.0</td>\n",
       "      <td>1.391400e+02</td>\n",
       "      <td>0.0</td>\n",
       "      <td>14.0</td>\n",
       "      <td>3.404200e+01</td>\n",
       "    </tr>\n",
       "    <tr>\n",
       "      <th>1</th>\n",
       "      <td>0.0</td>\n",
       "      <td>1.023120e+09</td>\n",
       "      <td>1.957983e+09</td>\n",
       "      <td>1.380269e+10</td>\n",
       "      <td>56.0</td>\n",
       "      <td>0.0</td>\n",
       "      <td>0.0</td>\n",
       "      <td>1.795184e+04</td>\n",
       "      <td>0.0</td>\n",
       "      <td>350.0</td>\n",
       "      <td>1.173734e+03</td>\n",
       "    </tr>\n",
       "    <tr>\n",
       "      <th>2</th>\n",
       "      <td>0.0</td>\n",
       "      <td>1.841616e+13</td>\n",
       "      <td>9.176086e+13</td>\n",
       "      <td>8.456358e+14</td>\n",
       "      <td>280.0</td>\n",
       "      <td>0.0</td>\n",
       "      <td>0.0</td>\n",
       "      <td>1.841680e+06</td>\n",
       "      <td>0.0</td>\n",
       "      <td>3150.0</td>\n",
       "      <td>3.093259e+04</td>\n",
       "    </tr>\n",
       "    <tr>\n",
       "      <th>3</th>\n",
       "      <td>0.0</td>\n",
       "      <td>1.896864e+17</td>\n",
       "      <td>5.292399e+18</td>\n",
       "      <td>6.006297e+19</td>\n",
       "      <td>5320.0</td>\n",
       "      <td>0.0</td>\n",
       "      <td>0.0</td>\n",
       "      <td>2.901014e+08</td>\n",
       "      <td>0.0</td>\n",
       "      <td>34650.0</td>\n",
       "      <td>1.051461e+06</td>\n",
       "    </tr>\n",
       "    <tr>\n",
       "      <th>4</th>\n",
       "      <td>0.0</td>\n",
       "      <td>1.783053e+21</td>\n",
       "      <td>2.990629e+23</td>\n",
       "      <td>4.706415e+24</td>\n",
       "      <td>90440.0</td>\n",
       "      <td>0.0</td>\n",
       "      <td>0.0</td>\n",
       "      <td>4.117409e+10</td>\n",
       "      <td>0.0</td>\n",
       "      <td>381150.0</td>\n",
       "      <td>3.399057e+07</td>\n",
       "    </tr>\n",
       "  </tbody>\n",
       "</table>\n",
       "</div>"
      ],
      "text/plain": [
       "   bad          loan       mortdue         value      yoj  derog  delinq  \\\n",
       "0  0.0  8.120000e+04  1.883400e+04  1.083550e+05     28.0    0.0     0.0   \n",
       "1  0.0  1.023120e+09  1.957983e+09  1.380269e+10     56.0    0.0     0.0   \n",
       "2  0.0  1.841616e+13  9.176086e+13  8.456358e+14    280.0    0.0     0.0   \n",
       "3  0.0  1.896864e+17  5.292399e+18  6.006297e+19   5320.0    0.0     0.0   \n",
       "4  0.0  1.783053e+21  2.990629e+23  4.706415e+24  90440.0    0.0     0.0   \n",
       "\n",
       "          clage  ninq      clno       debtinc  \n",
       "0  1.391400e+02   0.0      14.0  3.404200e+01  \n",
       "1  1.795184e+04   0.0     350.0  1.173734e+03  \n",
       "2  1.841680e+06   0.0    3150.0  3.093259e+04  \n",
       "3  2.901014e+08   0.0   34650.0  1.051461e+06  \n",
       "4  4.117409e+10   0.0  381150.0  3.399057e+07  "
      ]
     },
     "execution_count": 24,
     "metadata": {},
     "output_type": "execute_result"
    }
   ],
   "source": [
    "data2.cumprod().head()\n",
    "#Cumprod "
   ]
  },
  {
   "cell_type": "code",
   "execution_count": null,
   "metadata": {},
   "outputs": [],
   "source": [
    "data.corr()\n",
    "#correleation table"
   ]
  },
  {
   "cell_type": "code",
   "execution_count": 26,
   "metadata": {},
   "outputs": [],
   "source": [
    "import matplotlib.pyplot as plt"
   ]
  },
  {
   "cell_type": "code",
   "execution_count": 27,
   "metadata": {},
   "outputs": [
    {
     "data": {
      "text/plain": [
       "Text(0, 0.5, 'Value')"
      ]
     },
     "execution_count": 27,
     "metadata": {},
     "output_type": "execute_result"
    },
    {
     "data": {
      "image/png": "[encoded data removed]",
      "text/plain": [
       "<Figure size 432x288 with 1 Axes>"
      ]
     },
     "metadata": {
      "needs_background": "light"
     },
     "output_type": "display_data"
    }
   ],
   "source": [
    "fig, ax = plt.subplots()\n",
    "ax.scatter(data['loan'], data['value'])\n",
    "ax.set_title('Loan vs Value')\n",
    "ax.set_xlabel('Loan')\n",
    "ax.set_ylabel('Value')\n",
    "#Scatter Loan vs Value\n",
    "#We can do this for every column"
   ]
  },
  {
   "cell_type": "code",
   "execution_count": 28,
   "metadata": {},
   "outputs": [
    {
     "data": {
      "text/plain": [
       "Text(0, 0.5, 'Debtinc')"
      ]
     },
     "execution_count": 28,
     "metadata": {},
     "output_type": "execute_result"
    },
    {
     "data": {
      "image/png": "[encoded data removed]",
      "text/plain": [
       "<Figure size 432x288 with 1 Axes>"
      ]
     },
     "metadata": {
      "needs_background": "light"
     },
     "output_type": "display_data"
    }
   ],
   "source": [
    "fig, ax = plt.subplots()\n",
    "ax.scatter(data['mortdue'], data['debtinc'])\n",
    "ax.set_title('Mortdue vs Debtinc')\n",
    "ax.set_xlabel('Mortdue')\n",
    "ax.set_ylabel('Debtinc')\n",
    "#Scatter Mortdue vs Debtinc\n",
    "#We can do this for every column"
   ]
  },
  {
   "cell_type": "code",
   "execution_count": 4,
   "metadata": {},
   "outputs": [],
   "source": [
    "import seaborn as sns"
   ]
  },
  {
   "cell_type": "code",
   "execution_count": null,
   "metadata": {},
   "outputs": [],
   "source": [
    "sns.boxplot(x = \"value\", y= \"loan\", data = data)\n",
    "#boxplot"
   ]
  },
  {
   "cell_type": "code",
   "execution_count": null,
   "metadata": {},
   "outputs": [],
   "source": [
    "data.boxplot(column = \"value\", \n",
    "            by = 'bad',\n",
    "            figsize = (8,8))\n",
    "#boxplot"
   ]
  }
 ],
 "metadata": {
  "kernelspec": {
   "display_name": "Python 3",
   "language": "python",
   "name": "python3"
  },
  "language_info": {
   "codemirror_mode": {
    "name": "ipython",
    "version": 3
   },
   "file_extension": ".py",
   "mimetype": "text/x-python",
   "name": "python",
   "nbconvert_exporter": "python",
   "pygments_lexer": "ipython3",
   "version": "3.7.3"
  }
 },
 "nbformat": 4,
 "nbformat_minor": 2
}
